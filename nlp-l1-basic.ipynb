{
 "cells": [
  {
   "cell_type": "markdown",
   "metadata": {},
   "source": [
    "# L1: Language modelling"
   ]
  },
  {
   "cell_type": "markdown",
   "metadata": {},
   "source": [
    "In this lab you will implement and train two neural language models: the fixed-window model and the recurrent neural network model. You will evaluate these models by computing their perplexity on a benchmark dataset."
   ]
  },
  {
   "cell_type": "code",
   "execution_count": 1,
   "metadata": {},
   "outputs": [],
   "source": [
    "import torch"
   ]
  },
  {
   "cell_type": "markdown",
   "metadata": {},
   "source": [
    "For this lab, you should use the GPU if you have one:"
   ]
  },
  {
   "cell_type": "code",
   "execution_count": 2,
   "metadata": {},
   "outputs": [],
   "source": [
    "device = torch.device('cuda' if torch.cuda.is_available() else 'cpu')"
   ]
  },
  {
   "cell_type": "markdown",
   "metadata": {},
   "source": [
    "## Data"
   ]
  },
  {
   "cell_type": "markdown",
   "metadata": {},
   "source": [
    "The data for this lab is [WikiText](https://blog.einstein.ai/the-wikitext-long-term-dependency-language-modeling-dataset/), a collection of more than 100 million tokens extracted from the “Good” and “Featured” articles on Wikipedia. We will use the small version of the dataset, which contains slightly more than 2.5 million tokens.\n",
    "\n",
    "The next cell contains code for an object that will act as a container for the “training” and the “validation” section of the data. We fill this container by reading the corresponding text files. The only processing we do is to whitespace-tokenise, and to enclose each non-empty line within `<bos>` (beginning-of-sentence) and `<eos>` (end-of-sentence) tokens."
   ]
  },
  {
   "cell_type": "code",
   "execution_count": 3,
   "metadata": {},
   "outputs": [],
   "source": [
    "class WikiText(object):\n",
    "    \n",
    "    def __init__(self):\n",
    "        self.vocab = {}\n",
    "        self.train = self.read_data('wiki.train.tokens')\n",
    "        self.valid = self.read_data('wiki.valid.tokens')\n",
    "    \n",
    "    def read_data(self, path):\n",
    "        ids = []\n",
    "        with open(path, encoding='utf-8') as source:\n",
    "            for line in source:\n",
    "                line = line.rstrip()\n",
    "                if line:\n",
    "                    for token in ['<bos>'] + line.split() + ['<eos>']:\n",
    "                        if token not in self.vocab:\n",
    "                            self.vocab[token] = len(self.vocab)\n",
    "                        ids.append(self.vocab[token])\n",
    "        return ids"
   ]
  },
  {
   "cell_type": "markdown",
   "metadata": {},
   "source": [
    "The cell below loads the data and prints the total number of tokens and the size of the vocabulary."
   ]
  },
  {
   "cell_type": "code",
   "execution_count": 4,
   "metadata": {},
   "outputs": [
    {
     "name": "stdout",
     "output_type": "stream",
     "text": [
      "Tokens in train: 2099444\n",
      "Tokens in valid: 218808\n",
      "Vocabulary size: 33279\n"
     ]
    }
   ],
   "source": [
    "wikitext = WikiText()\n",
    "\n",
    "print('Tokens in train:', len(wikitext.train))\n",
    "print('Tokens in valid:', len(wikitext.valid))\n",
    "print('Vocabulary size:', len(wikitext.vocab))"
   ]
  },
  {
   "cell_type": "markdown",
   "metadata": {},
   "source": [
    "## Problem 1: Fixed-window model"
   ]
  },
  {
   "cell_type": "markdown",
   "metadata": {},
   "source": [
    "In this section, you will implement and train the fixed-window neural language model proposed by [Bengio et al. (2003)](http://www.jmlr.org/papers/volume3/bengio03a/bengio03a.pdf) and presented in the lectures. Recall that an input to the network takes the form of a vector of $n-1$ integers representing the preceding words. Each integer is mapped to a vector via an embedding layer. (All positions share the same embedding.) The embedding vectors are then concatenated and sent through a two-layer feed-forward network with a non-linearity in the form of a rectified linear unit (ReLU) and a final softmax layer."
   ]
  },
  {
   "cell_type": "markdown",
   "metadata": {},
   "source": [
    "### Problem 1.1: Vectorise the data (1&nbsp;point)"
   ]
  },
  {
   "cell_type": "markdown",
   "metadata": {},
   "source": [
    "Your first task is to write code for transforming the data in the WikiText container into a vectorised form that can be fed to the fixed-window model. Concretely, you will implement a [collate function](https://pytorch.org/docs/stable/data.html#dataloader-collate-fn) in the form of a callable vectoriser object. Complete the skeleton code in the cell below:"
   ]
  },
  {
   "cell_type": "code",
   "execution_count": 15,
   "metadata": {},
   "outputs": [],
   "source": [
    "class FixedWindowVectorizer(object):\n",
    "    def __init__(self, n):\n",
    "        self.n = n\n",
    "\n",
    "    def __call__(self, data):\n",
    "        x, y = [], []\n",
    "        for i in range(len(data) - self.n):\n",
    "            x.append(data[i:i+self.n-1])\n",
    "            y.append(data[i+self.n-1])\n",
    "        \n",
    "        return torch.LongTensor(x), torch.LongTensor(y)"
   ]
  },
  {
   "cell_type": "markdown",
   "metadata": {},
   "source": [
    "Your code should implement the following specification:\n",
    "\n",
    "**__init__** (*self*, *n*)\n",
    "\n",
    "> Creates a new vectoriser with n-gram order $n$. Your code should be able to handle arbitrary n-gram orders $n \\geq 1$.\n",
    "\n",
    "**__call__** (*self*, *data*)\n",
    "\n",
    "> Transforms WikiText *data* (a list of word ids) into a pair of tensors $\\mathbf{X}$, $\\mathbf{y}$ that can be used to train the fixed-window model. Let $N$ be the total number of $n$-grams from the token list; then $\\mathbf{X}$ is a matrix with shape $(N, n-1)$ and $\\mathbf{y}$ is a vector with length $N$."
   ]
  },
  {
   "cell_type": "markdown",
   "metadata": {},
   "source": [
    "#### 🤞 Test your code\n",
    "\n",
    "Test your implementation by running the code in the next cell. Does the output match your expectation?\n",
    "\n",
    "Yes, it seems reasonable: [Amount of words, Columns]"
   ]
  },
  {
   "cell_type": "code",
   "execution_count": 16,
   "metadata": {},
   "outputs": [
    {
     "name": "stdout",
     "output_type": "stream",
     "text": [
      "torch.Size([218805, 2]) torch.Size([218805])\n"
     ]
    }
   ],
   "source": [
    "valid_x, valid_y = FixedWindowVectorizer(3)(wikitext.valid)\n",
    "\n",
    "print(valid_x.size(), valid_y.size())"
   ]
  },
  {
   "cell_type": "markdown",
   "metadata": {},
   "source": [
    "### Problem 1.2: Implement the model (2&nbsp;points)"
   ]
  },
  {
   "cell_type": "markdown",
   "metadata": {},
   "source": [
    "Your next task is to implement the fixed-window model based on the graphical specification given in the lecture."
   ]
  },
  {
   "cell_type": "code",
   "execution_count": 17,
   "metadata": {},
   "outputs": [],
   "source": [
    "import torch.nn as nn\n",
    "\n",
    "class FixedWindowModel(nn.Module):\n",
    "\n",
    "    def __init__(self, n, n_words, embedding_dim=50, hidden_dim=50):\n",
    "        super().__init__()\n",
    "        self.embedding = nn.Embedding(n_words, embedding_dim)\n",
    "        self.relu = nn.ReLU()\n",
    "        self.m1 = nn.Linear(embedding_dim * (n-1), hidden_dim)\n",
    "        self.m2 = nn.Linear(hidden_dim, n_words)\n",
    "\n",
    "    def forward(self, x):\n",
    "        embedding = self.embedding(x)\n",
    "        concat = embedding.view(embedding.size(0), -1)\n",
    "\n",
    "        l1 = self.m1.forward(concat)\n",
    "        relu = self.relu.forward(l1)\n",
    "\n",
    "        return self.m2.forward(relu)"
   ]
  },
  {
   "cell_type": "markdown",
   "metadata": {},
   "source": [
    "Here is the specification of the two methods:\n",
    "\n",
    "**__init__** (*self*, *n*, *n_words*, *embedding_dim*=50, *hidden_dim*=50)\n",
    "\n",
    "> Creates a new fixed-window neural language model. The argument *n* specifies the model&rsquo;s $n$-gram order. The argument *n_words* is the number of words in the vocabulary. The arguments *embedding_dim* and *hidden_dim* specify the dimensionalities of the embedding layer and the hidden layer of the feedforward network, respectively; their default value is 50.\n",
    "\n",
    "**forward** (*self*, *x*)\n",
    "\n",
    "> Computes the network output on an input batch *x*. The shape of *x* is $(B, n-1)$, where $B$ is the batch size. The output of the forward pass is a tensor of shape $(B, V)$ where $V$ is the number of words in the vocabulary.\n",
    "\n",
    "**Hint:** The most efficient way to implement the vector concatenation in this model is to use the [`view()`](https://pytorch.org/docs/stable/tensors.html#torch.Tensor.view) method.\n",
    "\n",
    "#### 🤞 Test your code\n",
    "\n",
    "Test your code by instantiating the model and feeding it a batch of examples from the training data."
   ]
  },
  {
   "cell_type": "code",
   "execution_count": 18,
   "metadata": {},
   "outputs": [
    {
     "name": "stdout",
     "output_type": "stream",
     "text": [
      "tensor([[-0.6790, -0.7814,  0.4275,  ...,  0.3152,  0.0443,  0.1056],\n",
      "        [-0.2560, -0.9945,  0.1252,  ...,  0.1029, -0.7593, -0.0491],\n",
      "        [-0.1029, -0.2999, -0.1129,  ..., -0.3775, -0.1736, -0.0282],\n",
      "        [-0.3420, -0.4455,  0.3824,  ...,  0.0244, -0.0155, -0.0597]],\n",
      "       grad_fn=<AddmmBackward0>)\n",
      "torch.Size([4, 33279])\n"
     ]
    }
   ],
   "source": [
    "model = FixedWindowModel(3, len(wikitext.vocab))\n",
    "input = torch.randint(0, len(wikitext.vocab), (4, 3-1))\n",
    "output = model(input)\n",
    "print(output)\n",
    "print(output.shape)"
   ]
  },
  {
   "cell_type": "markdown",
   "metadata": {},
   "source": [
    "### Problem 1.3: Train the model (3&nbsp;points)"
   ]
  },
  {
   "cell_type": "markdown",
   "metadata": {},
   "source": [
    "Your final task is to write code to train the fixed-window model using minibatch gradient descent and the cross-entropy loss function. This should be a straightforward generalisation of the training loops that you have seen so far. Complete the skeleton code in the cell below:"
   ]
  },
  {
   "cell_type": "code",
   "execution_count": 19,
   "metadata": {},
   "outputs": [],
   "source": [
    "import torch.optim as optim\n",
    "\n",
    "from torch.utils.data import DataLoader, TensorDataset\n",
    "\n",
    "def train_fixed_window(n, n_epochs=1, batch_size=3200, lr=1e-2):\n",
    "    vectorizer = FixedWindowVectorizer(n)\n",
    "    n_grams_tensor, targets_tensor = vectorizer(wikitext.train)\n",
    "    \n",
    "    ds = TensorDataset(n_grams_tensor, targets_tensor)\n",
    "    dl = DataLoader(ds, batch_size=batch_size, shuffle=True)\n",
    "    \n",
    "    model = FixedWindowModel(n, len(wikitext.vocab))\n",
    "    loss_function = nn.CrossEntropyLoss()\n",
    "    optimizer = optim.Adam(model.parameters(), lr=lr)\n",
    "\n",
    "    for epoch in range(n_epochs):\n",
    "        for batch, (input, target) in enumerate(dl):\n",
    "            optimizer.zero_grad()\n",
    "            output = model(input)\n",
    "            loss = loss_function(output, target)\n",
    "            loss.backward()\n",
    "            optimizer.step()\n",
    "\n",
    "            print(f\"Epoch {epoch+1}, Loss: {loss}\")\n",
    "\n",
    "    return model"
   ]
  },
  {
   "cell_type": "markdown",
   "metadata": {},
   "source": [
    "Here is the specification of the training function:\n",
    "\n",
    "**train_fixed_window** (*n*, *n_epochs* = 1, *batch_size* = 3200, *lr* = 0.01)\n",
    "\n",
    "> Trains a fixed-window neural language model of order *n* using minibatch gradient descent and returns it. The parameters *n_epochs* and *batch_size* specify the number of training epochs and the minibatch size, respectively. Training uses the cross-entropy loss function and the [Adam optimizer](https://pytorch.org/docs/stable/optim.html#torch.optim.Adam) with learning rate *lr*. After each epoch, prints the perplexity of the model on the validation data."
   ]
  },
  {
   "cell_type": "markdown",
   "metadata": {},
   "source": [
    "The code in the cell below trains a bigram model."
   ]
  },
  {
   "cell_type": "code",
   "execution_count": 20,
   "metadata": {},
   "outputs": [
    {
     "name": "stdout",
     "output_type": "stream",
     "text": [
      "Epoch 1, Loss: 10.447539329528809\n",
      "Epoch 1, Loss: 10.265493392944336\n",
      "Epoch 1, Loss: 10.10720443725586\n",
      "Epoch 1, Loss: 9.889732360839844\n",
      "Epoch 1, Loss: 9.6376314163208\n",
      "Epoch 1, Loss: 9.412520408630371\n",
      "Epoch 1, Loss: 9.102190971374512\n",
      "Epoch 1, Loss: 8.81653881072998\n",
      "Epoch 1, Loss: 8.464323997497559\n",
      "Epoch 1, Loss: 8.233697891235352\n",
      "Epoch 1, Loss: 8.04712200164795\n",
      "Epoch 1, Loss: 7.801574230194092\n",
      "Epoch 1, Loss: 7.739325046539307\n",
      "Epoch 1, Loss: 7.605767726898193\n",
      "Epoch 1, Loss: 7.545498847961426\n",
      "Epoch 1, Loss: 7.526491641998291\n",
      "Epoch 1, Loss: 7.423245429992676\n",
      "Epoch 1, Loss: 7.438287258148193\n",
      "Epoch 1, Loss: 7.446885585784912\n",
      "Epoch 1, Loss: 7.229795455932617\n",
      "Epoch 1, Loss: 7.031637668609619\n",
      "Epoch 1, Loss: 7.133314609527588\n",
      "Epoch 1, Loss: 7.1088643074035645\n",
      "Epoch 1, Loss: 7.098251819610596\n",
      "Epoch 1, Loss: 7.017299652099609\n",
      "Epoch 1, Loss: 6.98715877532959\n",
      "Epoch 1, Loss: 7.0421576499938965\n",
      "Epoch 1, Loss: 6.865844249725342\n",
      "Epoch 1, Loss: 6.993980884552002\n",
      "Epoch 1, Loss: 6.919534206390381\n",
      "Epoch 1, Loss: 7.036240100860596\n",
      "Epoch 1, Loss: 6.938450336456299\n",
      "Epoch 1, Loss: 6.856932163238525\n",
      "Epoch 1, Loss: 6.877786159515381\n",
      "Epoch 1, Loss: 6.931619167327881\n",
      "Epoch 1, Loss: 6.941301345825195\n",
      "Epoch 1, Loss: 6.862902641296387\n",
      "Epoch 1, Loss: 6.8271403312683105\n",
      "Epoch 1, Loss: 6.796142578125\n",
      "Epoch 1, Loss: 6.764099597930908\n",
      "Epoch 1, Loss: 6.895658493041992\n",
      "Epoch 1, Loss: 6.769094467163086\n",
      "Epoch 1, Loss: 6.663491249084473\n",
      "Epoch 1, Loss: 6.663422107696533\n",
      "Epoch 1, Loss: 6.758342266082764\n",
      "Epoch 1, Loss: 6.877544403076172\n",
      "Epoch 1, Loss: 6.839444160461426\n",
      "Epoch 1, Loss: 6.800893783569336\n",
      "Epoch 1, Loss: 6.743081092834473\n",
      "Epoch 1, Loss: 6.715823173522949\n",
      "Epoch 1, Loss: 6.649056434631348\n",
      "Epoch 1, Loss: 6.6208815574646\n",
      "Epoch 1, Loss: 6.5851149559021\n",
      "Epoch 1, Loss: 6.601507663726807\n",
      "Epoch 1, Loss: 6.702120780944824\n",
      "Epoch 1, Loss: 6.547461032867432\n",
      "Epoch 1, Loss: 6.6295952796936035\n",
      "Epoch 1, Loss: 6.678318500518799\n",
      "Epoch 1, Loss: 6.582738876342773\n",
      "Epoch 1, Loss: 6.5681328773498535\n",
      "Epoch 1, Loss: 6.559141159057617\n",
      "Epoch 1, Loss: 6.626221179962158\n",
      "Epoch 1, Loss: 6.7604217529296875\n",
      "Epoch 1, Loss: 6.645814895629883\n",
      "Epoch 1, Loss: 6.5926594734191895\n",
      "Epoch 1, Loss: 6.564489364624023\n",
      "Epoch 1, Loss: 6.514185905456543\n",
      "Epoch 1, Loss: 6.542665481567383\n",
      "Epoch 1, Loss: 6.62620735168457\n",
      "Epoch 1, Loss: 6.5889363288879395\n",
      "Epoch 1, Loss: 6.537896633148193\n",
      "Epoch 1, Loss: 6.531293869018555\n",
      "Epoch 1, Loss: 6.4314775466918945\n",
      "Epoch 1, Loss: 6.612431049346924\n",
      "Epoch 1, Loss: 6.5943498611450195\n",
      "Epoch 1, Loss: 6.375129222869873\n",
      "Epoch 1, Loss: 6.453310012817383\n",
      "Epoch 1, Loss: 6.609921932220459\n",
      "Epoch 1, Loss: 6.418575286865234\n",
      "Epoch 1, Loss: 6.54754638671875\n",
      "Epoch 1, Loss: 6.517591953277588\n",
      "Epoch 1, Loss: 6.4724225997924805\n",
      "Epoch 1, Loss: 6.590622425079346\n",
      "Epoch 1, Loss: 6.4517669677734375\n",
      "Epoch 1, Loss: 6.48764705657959\n",
      "Epoch 1, Loss: 6.44734001159668\n",
      "Epoch 1, Loss: 6.549556255340576\n",
      "Epoch 1, Loss: 6.385456562042236\n",
      "Epoch 1, Loss: 6.404469013214111\n",
      "Epoch 1, Loss: 6.481876850128174\n",
      "Epoch 1, Loss: 6.462364673614502\n",
      "Epoch 1, Loss: 6.434094429016113\n",
      "Epoch 1, Loss: 6.455030918121338\n",
      "Epoch 1, Loss: 6.4163126945495605\n",
      "Epoch 1, Loss: 6.5061821937561035\n",
      "Epoch 1, Loss: 6.384521007537842\n",
      "Epoch 1, Loss: 6.541898727416992\n",
      "Epoch 1, Loss: 6.507254600524902\n",
      "Epoch 1, Loss: 6.388500213623047\n",
      "Epoch 1, Loss: 6.473587512969971\n",
      "Epoch 1, Loss: 6.447514533996582\n",
      "Epoch 1, Loss: 6.4601287841796875\n",
      "Epoch 1, Loss: 6.390074253082275\n",
      "Epoch 1, Loss: 6.367359638214111\n",
      "Epoch 1, Loss: 6.466221809387207\n",
      "Epoch 1, Loss: 6.377337455749512\n",
      "Epoch 1, Loss: 6.453715801239014\n",
      "Epoch 1, Loss: 6.396317005157471\n",
      "Epoch 1, Loss: 6.441427707672119\n",
      "Epoch 1, Loss: 6.343837738037109\n",
      "Epoch 1, Loss: 6.3217034339904785\n",
      "Epoch 1, Loss: 6.407904148101807\n",
      "Epoch 1, Loss: 6.3814826011657715\n",
      "Epoch 1, Loss: 6.404246807098389\n",
      "Epoch 1, Loss: 6.386575222015381\n",
      "Epoch 1, Loss: 6.389060020446777\n",
      "Epoch 1, Loss: 6.3896708488464355\n",
      "Epoch 1, Loss: 6.338546276092529\n",
      "Epoch 1, Loss: 6.391541004180908\n",
      "Epoch 1, Loss: 6.441920757293701\n",
      "Epoch 1, Loss: 6.382200717926025\n",
      "Epoch 1, Loss: 6.478716850280762\n",
      "Epoch 1, Loss: 6.360030651092529\n",
      "Epoch 1, Loss: 6.4851789474487305\n",
      "Epoch 1, Loss: 6.321979522705078\n",
      "Epoch 1, Loss: 6.405415058135986\n",
      "Epoch 1, Loss: 6.334317684173584\n",
      "Epoch 1, Loss: 6.309267997741699\n",
      "Epoch 1, Loss: 6.258808612823486\n",
      "Epoch 1, Loss: 6.465645790100098\n",
      "Epoch 1, Loss: 6.324504852294922\n",
      "Epoch 1, Loss: 6.370876312255859\n",
      "Epoch 1, Loss: 6.288874626159668\n",
      "Epoch 1, Loss: 6.345643997192383\n",
      "Epoch 1, Loss: 6.3691630363464355\n",
      "Epoch 1, Loss: 6.378764629364014\n",
      "Epoch 1, Loss: 6.360815048217773\n",
      "Epoch 1, Loss: 6.354862689971924\n",
      "Epoch 1, Loss: 6.3350510597229\n",
      "Epoch 1, Loss: 6.295856475830078\n",
      "Epoch 1, Loss: 6.382340908050537\n",
      "Epoch 1, Loss: 6.246206760406494\n",
      "Epoch 1, Loss: 6.268632888793945\n",
      "Epoch 1, Loss: 6.320589065551758\n",
      "Epoch 1, Loss: 6.267539024353027\n",
      "Epoch 1, Loss: 6.289379119873047\n",
      "Epoch 1, Loss: 6.284078598022461\n",
      "Epoch 1, Loss: 6.3327531814575195\n",
      "Epoch 1, Loss: 6.229376792907715\n",
      "Epoch 1, Loss: 6.316497802734375\n",
      "Epoch 1, Loss: 6.3898115158081055\n",
      "Epoch 1, Loss: 6.320116996765137\n",
      "Epoch 1, Loss: 6.294839859008789\n",
      "Epoch 1, Loss: 6.318130016326904\n",
      "Epoch 1, Loss: 6.285664081573486\n",
      "Epoch 1, Loss: 6.247682094573975\n",
      "Epoch 1, Loss: 6.409018516540527\n",
      "Epoch 1, Loss: 6.258877754211426\n",
      "Epoch 1, Loss: 6.334293842315674\n",
      "Epoch 1, Loss: 6.298639297485352\n",
      "Epoch 1, Loss: 6.2988152503967285\n",
      "Epoch 1, Loss: 6.260644435882568\n",
      "Epoch 1, Loss: 6.255496025085449\n",
      "Epoch 1, Loss: 6.259821891784668\n",
      "Epoch 1, Loss: 6.287449836730957\n",
      "Epoch 1, Loss: 6.341394424438477\n",
      "Epoch 1, Loss: 6.3551836013793945\n",
      "Epoch 1, Loss: 6.402312755584717\n",
      "Epoch 1, Loss: 6.2678704261779785\n",
      "Epoch 1, Loss: 6.172994613647461\n",
      "Epoch 1, Loss: 6.26378059387207\n",
      "Epoch 1, Loss: 6.179490566253662\n",
      "Epoch 1, Loss: 6.195375442504883\n",
      "Epoch 1, Loss: 6.321151256561279\n",
      "Epoch 1, Loss: 6.196478366851807\n",
      "Epoch 1, Loss: 6.25846004486084\n",
      "Epoch 1, Loss: 6.311795711517334\n",
      "Epoch 1, Loss: 6.319076061248779\n",
      "Epoch 1, Loss: 6.3178181648254395\n",
      "Epoch 1, Loss: 6.214025497436523\n",
      "Epoch 1, Loss: 6.179825305938721\n",
      "Epoch 1, Loss: 6.259682655334473\n",
      "Epoch 1, Loss: 6.206019878387451\n",
      "Epoch 1, Loss: 6.281170845031738\n",
      "Epoch 1, Loss: 6.180111885070801\n",
      "Epoch 1, Loss: 6.257973670959473\n",
      "Epoch 1, Loss: 6.202885150909424\n",
      "Epoch 1, Loss: 6.345846652984619\n",
      "Epoch 1, Loss: 6.294195652008057\n",
      "Epoch 1, Loss: 6.254530429840088\n",
      "Epoch 1, Loss: 6.271369457244873\n",
      "Epoch 1, Loss: 6.324969291687012\n",
      "Epoch 1, Loss: 6.156761646270752\n",
      "Epoch 1, Loss: 6.232574939727783\n",
      "Epoch 1, Loss: 6.142822742462158\n",
      "Epoch 1, Loss: 6.274275302886963\n",
      "Epoch 1, Loss: 6.19766902923584\n",
      "Epoch 1, Loss: 6.280381679534912\n",
      "Epoch 1, Loss: 6.248000621795654\n",
      "Epoch 1, Loss: 6.250062465667725\n",
      "Epoch 1, Loss: 6.158532619476318\n",
      "Epoch 1, Loss: 6.176046848297119\n",
      "Epoch 1, Loss: 6.096657752990723\n",
      "Epoch 1, Loss: 6.124169826507568\n",
      "Epoch 1, Loss: 6.142147064208984\n",
      "Epoch 1, Loss: 6.182329177856445\n",
      "Epoch 1, Loss: 6.169805526733398\n",
      "Epoch 1, Loss: 6.19184684753418\n",
      "Epoch 1, Loss: 6.168497085571289\n",
      "Epoch 1, Loss: 6.2774577140808105\n",
      "Epoch 1, Loss: 6.3427252769470215\n",
      "Epoch 1, Loss: 6.145259857177734\n",
      "Epoch 1, Loss: 6.277340888977051\n",
      "Epoch 1, Loss: 6.1788105964660645\n",
      "Epoch 1, Loss: 6.205677509307861\n",
      "Epoch 1, Loss: 6.209865093231201\n",
      "Epoch 1, Loss: 6.175234317779541\n",
      "Epoch 1, Loss: 6.221391677856445\n",
      "Epoch 1, Loss: 6.168827533721924\n",
      "Epoch 1, Loss: 6.215341567993164\n",
      "Epoch 1, Loss: 6.236177444458008\n",
      "Epoch 1, Loss: 6.09952449798584\n",
      "Epoch 1, Loss: 6.159051418304443\n",
      "Epoch 1, Loss: 6.226896286010742\n",
      "Epoch 1, Loss: 6.165308952331543\n",
      "Epoch 1, Loss: 6.073017597198486\n",
      "Epoch 1, Loss: 6.200114727020264\n",
      "Epoch 1, Loss: 6.170931816101074\n",
      "Epoch 1, Loss: 6.075207710266113\n",
      "Epoch 1, Loss: 6.192650318145752\n",
      "Epoch 1, Loss: 6.089380264282227\n",
      "Epoch 1, Loss: 5.988135814666748\n",
      "Epoch 1, Loss: 6.155505180358887\n",
      "Epoch 1, Loss: 6.146270275115967\n",
      "Epoch 1, Loss: 6.119993209838867\n",
      "Epoch 1, Loss: 6.1215596199035645\n",
      "Epoch 1, Loss: 6.183111667633057\n",
      "Epoch 1, Loss: 6.119365215301514\n",
      "Epoch 1, Loss: 6.330356597900391\n",
      "Epoch 1, Loss: 6.1844258308410645\n",
      "Epoch 1, Loss: 6.178638935089111\n",
      "Epoch 1, Loss: 6.1253342628479\n",
      "Epoch 1, Loss: 6.162976264953613\n",
      "Epoch 1, Loss: 6.106347560882568\n",
      "Epoch 1, Loss: 6.187955379486084\n",
      "Epoch 1, Loss: 6.2714128494262695\n",
      "Epoch 1, Loss: 6.081979274749756\n",
      "Epoch 1, Loss: 6.127833843231201\n",
      "Epoch 1, Loss: 6.0532145500183105\n",
      "Epoch 1, Loss: 6.0719828605651855\n",
      "Epoch 1, Loss: 6.190958023071289\n",
      "Epoch 1, Loss: 6.136247634887695\n",
      "Epoch 1, Loss: 6.173957347869873\n",
      "Epoch 1, Loss: 6.172921180725098\n",
      "Epoch 1, Loss: 6.153723239898682\n",
      "Epoch 1, Loss: 6.217618942260742\n",
      "Epoch 1, Loss: 6.226223945617676\n",
      "Epoch 1, Loss: 6.072444915771484\n",
      "Epoch 1, Loss: 6.209926128387451\n",
      "Epoch 1, Loss: 6.162092685699463\n",
      "Epoch 1, Loss: 6.15372371673584\n",
      "Epoch 1, Loss: 6.061122894287109\n",
      "Epoch 1, Loss: 6.040117263793945\n",
      "Epoch 1, Loss: 6.055466175079346\n",
      "Epoch 1, Loss: 6.106184482574463\n",
      "Epoch 1, Loss: 6.062953948974609\n",
      "Epoch 1, Loss: 6.002144813537598\n",
      "Epoch 1, Loss: 6.182462215423584\n",
      "Epoch 1, Loss: 6.0668864250183105\n",
      "Epoch 1, Loss: 6.0730061531066895\n",
      "Epoch 1, Loss: 6.069927215576172\n",
      "Epoch 1, Loss: 6.02884578704834\n",
      "Epoch 1, Loss: 6.118754863739014\n",
      "Epoch 1, Loss: 6.049403667449951\n",
      "Epoch 1, Loss: 6.051595687866211\n",
      "Epoch 1, Loss: 6.059856414794922\n",
      "Epoch 1, Loss: 6.0386457443237305\n",
      "Epoch 1, Loss: 6.1565141677856445\n",
      "Epoch 1, Loss: 6.1201491355896\n",
      "Epoch 1, Loss: 6.05665397644043\n",
      "Epoch 1, Loss: 5.985501766204834\n",
      "Epoch 1, Loss: 6.143153667449951\n",
      "Epoch 1, Loss: 6.184337139129639\n",
      "Epoch 1, Loss: 6.118034839630127\n",
      "Epoch 1, Loss: 6.05460262298584\n",
      "Epoch 1, Loss: 6.067378520965576\n",
      "Epoch 1, Loss: 6.059567451477051\n",
      "Epoch 1, Loss: 6.123136520385742\n",
      "Epoch 1, Loss: 6.055289268493652\n",
      "Epoch 1, Loss: 6.082892894744873\n",
      "Epoch 1, Loss: 6.155631065368652\n",
      "Epoch 1, Loss: 6.048079013824463\n",
      "Epoch 1, Loss: 6.225387096405029\n",
      "Epoch 1, Loss: 5.9162068367004395\n",
      "Epoch 1, Loss: 6.06552267074585\n",
      "Epoch 1, Loss: 6.0426435470581055\n",
      "Epoch 1, Loss: 6.137185096740723\n",
      "Epoch 1, Loss: 6.1859130859375\n",
      "Epoch 1, Loss: 6.040939807891846\n",
      "Epoch 1, Loss: 6.0308332443237305\n",
      "Epoch 1, Loss: 6.063611030578613\n",
      "Epoch 1, Loss: 6.098165512084961\n",
      "Epoch 1, Loss: 6.033310413360596\n",
      "Epoch 1, Loss: 6.157758712768555\n",
      "Epoch 1, Loss: 6.105662822723389\n",
      "Epoch 1, Loss: 6.008835315704346\n",
      "Epoch 1, Loss: 6.0500288009643555\n",
      "Epoch 1, Loss: 6.118006706237793\n",
      "Epoch 1, Loss: 6.012143611907959\n",
      "Epoch 1, Loss: 6.150462627410889\n",
      "Epoch 1, Loss: 6.128921031951904\n",
      "Epoch 1, Loss: 6.125734806060791\n",
      "Epoch 1, Loss: 6.217869758605957\n",
      "Epoch 1, Loss: 6.116546630859375\n",
      "Epoch 1, Loss: 6.076866626739502\n",
      "Epoch 1, Loss: 6.018065929412842\n",
      "Epoch 1, Loss: 6.142816066741943\n",
      "Epoch 1, Loss: 6.003405570983887\n",
      "Epoch 1, Loss: 6.011044502258301\n",
      "Epoch 1, Loss: 6.100063323974609\n",
      "Epoch 1, Loss: 6.059789657592773\n",
      "Epoch 1, Loss: 5.967189311981201\n",
      "Epoch 1, Loss: 6.006832122802734\n",
      "Epoch 1, Loss: 6.117021560668945\n",
      "Epoch 1, Loss: 6.115832328796387\n",
      "Epoch 1, Loss: 6.079164505004883\n",
      "Epoch 1, Loss: 6.013134956359863\n",
      "Epoch 1, Loss: 6.087725639343262\n",
      "Epoch 1, Loss: 6.030567169189453\n",
      "Epoch 1, Loss: 6.092350006103516\n",
      "Epoch 1, Loss: 6.073433876037598\n",
      "Epoch 1, Loss: 6.095027446746826\n",
      "Epoch 1, Loss: 6.052228927612305\n",
      "Epoch 1, Loss: 5.999271392822266\n",
      "Epoch 1, Loss: 6.038234710693359\n",
      "Epoch 1, Loss: 6.078779220581055\n",
      "Epoch 1, Loss: 5.949375629425049\n",
      "Epoch 1, Loss: 6.142096519470215\n",
      "Epoch 1, Loss: 6.007026195526123\n",
      "Epoch 1, Loss: 6.0013604164123535\n",
      "Epoch 1, Loss: 5.964041233062744\n",
      "Epoch 1, Loss: 6.073297023773193\n",
      "Epoch 1, Loss: 6.079293727874756\n",
      "Epoch 1, Loss: 6.047508716583252\n",
      "Epoch 1, Loss: 6.013437271118164\n",
      "Epoch 1, Loss: 5.924771308898926\n",
      "Epoch 1, Loss: 5.986783027648926\n",
      "Epoch 1, Loss: 6.0685505867004395\n",
      "Epoch 1, Loss: 6.0409369468688965\n",
      "Epoch 1, Loss: 6.035181999206543\n",
      "Epoch 1, Loss: 6.043701648712158\n",
      "Epoch 1, Loss: 5.976836681365967\n",
      "Epoch 1, Loss: 6.058795928955078\n",
      "Epoch 1, Loss: 5.944979667663574\n",
      "Epoch 1, Loss: 6.046213150024414\n",
      "Epoch 1, Loss: 5.901721954345703\n",
      "Epoch 1, Loss: 5.94748067855835\n",
      "Epoch 1, Loss: 6.032496452331543\n",
      "Epoch 1, Loss: 6.058347225189209\n",
      "Epoch 1, Loss: 6.063494682312012\n",
      "Epoch 1, Loss: 5.979088306427002\n",
      "Epoch 1, Loss: 6.099716663360596\n",
      "Epoch 1, Loss: 6.032586097717285\n",
      "Epoch 1, Loss: 6.0703277587890625\n",
      "Epoch 1, Loss: 6.079638481140137\n",
      "Epoch 1, Loss: 6.062360763549805\n",
      "Epoch 1, Loss: 6.030739784240723\n",
      "Epoch 1, Loss: 6.001077175140381\n",
      "Epoch 1, Loss: 5.96647834777832\n",
      "Epoch 1, Loss: 5.9795966148376465\n",
      "Epoch 1, Loss: 5.970066547393799\n",
      "Epoch 1, Loss: 6.0235395431518555\n",
      "Epoch 1, Loss: 5.9934186935424805\n",
      "Epoch 1, Loss: 6.048244476318359\n",
      "Epoch 1, Loss: 6.067357063293457\n",
      "Epoch 1, Loss: 6.003143310546875\n",
      "Epoch 1, Loss: 5.986809730529785\n",
      "Epoch 1, Loss: 6.18853759765625\n",
      "Epoch 1, Loss: 6.0771803855896\n",
      "Epoch 1, Loss: 5.989700794219971\n",
      "Epoch 1, Loss: 6.083734035491943\n",
      "Epoch 1, Loss: 5.89189338684082\n",
      "Epoch 1, Loss: 6.042032241821289\n",
      "Epoch 1, Loss: 5.980245590209961\n",
      "Epoch 1, Loss: 6.0450568199157715\n",
      "Epoch 1, Loss: 6.095036506652832\n",
      "Epoch 1, Loss: 6.005435943603516\n",
      "Epoch 1, Loss: 6.008305072784424\n",
      "Epoch 1, Loss: 6.032852649688721\n",
      "Epoch 1, Loss: 6.022279262542725\n",
      "Epoch 1, Loss: 6.022068977355957\n",
      "Epoch 1, Loss: 6.13809871673584\n",
      "Epoch 1, Loss: 5.967710494995117\n",
      "Epoch 1, Loss: 5.978224277496338\n",
      "Epoch 1, Loss: 5.868983268737793\n",
      "Epoch 1, Loss: 6.008457660675049\n",
      "Epoch 1, Loss: 5.993340969085693\n",
      "Epoch 1, Loss: 5.91749382019043\n",
      "Epoch 1, Loss: 6.012135028839111\n",
      "Epoch 1, Loss: 6.090549945831299\n",
      "Epoch 1, Loss: 5.981709003448486\n",
      "Epoch 1, Loss: 6.095088005065918\n",
      "Epoch 1, Loss: 6.105229377746582\n",
      "Epoch 1, Loss: 5.930477142333984\n",
      "Epoch 1, Loss: 5.981761932373047\n",
      "Epoch 1, Loss: 6.004568576812744\n",
      "Epoch 1, Loss: 5.9339680671691895\n",
      "Epoch 1, Loss: 5.997137069702148\n",
      "Epoch 1, Loss: 5.953932285308838\n",
      "Epoch 1, Loss: 5.873627185821533\n",
      "Epoch 1, Loss: 5.944719314575195\n",
      "Epoch 1, Loss: 5.9972991943359375\n",
      "Epoch 1, Loss: 5.941125392913818\n",
      "Epoch 1, Loss: 5.923599720001221\n",
      "Epoch 1, Loss: 5.972102165222168\n",
      "Epoch 1, Loss: 6.017714023590088\n",
      "Epoch 1, Loss: 5.903141498565674\n",
      "Epoch 1, Loss: 5.887104511260986\n",
      "Epoch 1, Loss: 5.988896369934082\n",
      "Epoch 1, Loss: 6.079576015472412\n",
      "Epoch 1, Loss: 6.027118682861328\n",
      "Epoch 1, Loss: 5.895031929016113\n",
      "Epoch 1, Loss: 5.975487232208252\n",
      "Epoch 1, Loss: 5.955694675445557\n",
      "Epoch 1, Loss: 5.906591415405273\n",
      "Epoch 1, Loss: 6.060667037963867\n",
      "Epoch 1, Loss: 5.915571689605713\n",
      "Epoch 1, Loss: 5.9195637702941895\n",
      "Epoch 1, Loss: 6.031032562255859\n",
      "Epoch 1, Loss: 6.0459418296813965\n",
      "Epoch 1, Loss: 5.968748569488525\n",
      "Epoch 1, Loss: 6.003732681274414\n",
      "Epoch 1, Loss: 5.904494762420654\n",
      "Epoch 1, Loss: 5.944677352905273\n",
      "Epoch 1, Loss: 6.046535015106201\n",
      "Epoch 1, Loss: 6.00985050201416\n",
      "Epoch 1, Loss: 6.05251407623291\n",
      "Epoch 1, Loss: 6.004056930541992\n",
      "Epoch 1, Loss: 5.9619669914245605\n",
      "Epoch 1, Loss: 5.886109828948975\n",
      "Epoch 1, Loss: 5.926182746887207\n",
      "Epoch 1, Loss: 5.944098472595215\n",
      "Epoch 1, Loss: 5.961647987365723\n",
      "Epoch 1, Loss: 5.860767841339111\n",
      "Epoch 1, Loss: 5.956287384033203\n",
      "Epoch 1, Loss: 6.007101058959961\n",
      "Epoch 1, Loss: 5.982379913330078\n",
      "Epoch 1, Loss: 5.910776138305664\n",
      "Epoch 1, Loss: 5.996695041656494\n",
      "Epoch 1, Loss: 5.9809184074401855\n",
      "Epoch 1, Loss: 5.920112133026123\n",
      "Epoch 1, Loss: 5.946400165557861\n",
      "Epoch 1, Loss: 5.888693332672119\n",
      "Epoch 1, Loss: 6.004357814788818\n",
      "Epoch 1, Loss: 5.844719409942627\n",
      "Epoch 1, Loss: 5.778120517730713\n",
      "Epoch 1, Loss: 5.925960540771484\n",
      "Epoch 1, Loss: 5.956607818603516\n",
      "Epoch 1, Loss: 5.958051681518555\n",
      "Epoch 1, Loss: 6.033261299133301\n",
      "Epoch 1, Loss: 5.955920219421387\n",
      "Epoch 1, Loss: 5.939704418182373\n",
      "Epoch 1, Loss: 5.877288341522217\n",
      "Epoch 1, Loss: 5.87190055847168\n",
      "Epoch 1, Loss: 6.018934726715088\n",
      "Epoch 1, Loss: 5.919803619384766\n",
      "Epoch 1, Loss: 5.903947830200195\n",
      "Epoch 1, Loss: 5.976830959320068\n",
      "Epoch 1, Loss: 5.897212028503418\n",
      "Epoch 1, Loss: 6.0155792236328125\n",
      "Epoch 1, Loss: 5.999911308288574\n",
      "Epoch 1, Loss: 5.8935770988464355\n",
      "Epoch 1, Loss: 5.977443695068359\n",
      "Epoch 1, Loss: 5.962788105010986\n",
      "Epoch 1, Loss: 5.980848789215088\n",
      "Epoch 1, Loss: 5.941909313201904\n",
      "Epoch 1, Loss: 5.982304573059082\n",
      "Epoch 1, Loss: 6.020810127258301\n",
      "Epoch 1, Loss: 6.033178806304932\n",
      "Epoch 1, Loss: 5.882073879241943\n",
      "Epoch 1, Loss: 5.942418098449707\n",
      "Epoch 1, Loss: 5.931757926940918\n",
      "Epoch 1, Loss: 6.023531436920166\n",
      "Epoch 1, Loss: 6.034289360046387\n",
      "Epoch 1, Loss: 5.924161911010742\n",
      "Epoch 1, Loss: 5.982301712036133\n",
      "Epoch 1, Loss: 5.912452220916748\n",
      "Epoch 1, Loss: 5.997727870941162\n",
      "Epoch 1, Loss: 5.884087562561035\n",
      "Epoch 1, Loss: 5.831835746765137\n",
      "Epoch 1, Loss: 5.897532939910889\n",
      "Epoch 1, Loss: 5.9504241943359375\n",
      "Epoch 1, Loss: 5.888926982879639\n",
      "Epoch 1, Loss: 5.979708194732666\n",
      "Epoch 1, Loss: 6.085517406463623\n",
      "Epoch 1, Loss: 5.869596481323242\n",
      "Epoch 1, Loss: 6.0713114738464355\n",
      "Epoch 1, Loss: 5.991910457611084\n",
      "Epoch 1, Loss: 6.0233001708984375\n",
      "Epoch 1, Loss: 5.882053375244141\n",
      "Epoch 1, Loss: 5.931006908416748\n",
      "Epoch 1, Loss: 5.8529205322265625\n",
      "Epoch 1, Loss: 5.993257999420166\n",
      "Epoch 1, Loss: 5.892253398895264\n",
      "Epoch 1, Loss: 5.830992221832275\n",
      "Epoch 1, Loss: 5.960907459259033\n",
      "Epoch 1, Loss: 5.954291343688965\n",
      "Epoch 1, Loss: 5.924137115478516\n",
      "Epoch 1, Loss: 5.8482666015625\n",
      "Epoch 1, Loss: 5.98289680480957\n",
      "Epoch 1, Loss: 5.892098903656006\n",
      "Epoch 1, Loss: 5.978010654449463\n",
      "Epoch 1, Loss: 5.87480354309082\n",
      "Epoch 1, Loss: 5.904072284698486\n",
      "Epoch 1, Loss: 5.955385684967041\n",
      "Epoch 1, Loss: 5.853848457336426\n",
      "Epoch 1, Loss: 5.855438709259033\n",
      "Epoch 1, Loss: 5.8728766441345215\n",
      "Epoch 1, Loss: 5.824563026428223\n",
      "Epoch 1, Loss: 5.875436305999756\n",
      "Epoch 1, Loss: 6.003871917724609\n",
      "Epoch 1, Loss: 5.914546966552734\n",
      "Epoch 1, Loss: 5.9577836990356445\n",
      "Epoch 1, Loss: 5.9614949226379395\n",
      "Epoch 1, Loss: 5.964254856109619\n",
      "Epoch 1, Loss: 6.0775861740112305\n",
      "Epoch 1, Loss: 5.949481964111328\n",
      "Epoch 1, Loss: 5.9439005851745605\n",
      "Epoch 1, Loss: 5.924839019775391\n",
      "Epoch 1, Loss: 5.972866058349609\n",
      "Epoch 1, Loss: 5.956145763397217\n",
      "Epoch 1, Loss: 5.892575740814209\n",
      "Epoch 1, Loss: 5.8656158447265625\n",
      "Epoch 1, Loss: 5.801996231079102\n",
      "Epoch 1, Loss: 5.850673198699951\n",
      "Epoch 1, Loss: 6.022419452667236\n",
      "Epoch 1, Loss: 5.753628730773926\n",
      "Epoch 1, Loss: 5.9111785888671875\n",
      "Epoch 1, Loss: 5.920025825500488\n",
      "Epoch 1, Loss: 6.046824932098389\n",
      "Epoch 1, Loss: 5.860108852386475\n",
      "Epoch 1, Loss: 5.897788047790527\n",
      "Epoch 1, Loss: 5.9287543296813965\n",
      "Epoch 1, Loss: 5.950788497924805\n",
      "Epoch 1, Loss: 5.870365142822266\n",
      "Epoch 1, Loss: 5.922857284545898\n",
      "Epoch 1, Loss: 5.964680194854736\n",
      "Epoch 1, Loss: 5.919956207275391\n",
      "Epoch 1, Loss: 5.970602035522461\n",
      "Epoch 1, Loss: 5.9219584465026855\n",
      "Epoch 1, Loss: 5.880695343017578\n",
      "Epoch 1, Loss: 5.9458909034729\n",
      "Epoch 1, Loss: 5.906237602233887\n",
      "Epoch 1, Loss: 5.905245780944824\n",
      "Epoch 1, Loss: 5.812229156494141\n",
      "Epoch 1, Loss: 5.9257707595825195\n",
      "Epoch 1, Loss: 5.9235358238220215\n",
      "Epoch 1, Loss: 5.816991806030273\n",
      "Epoch 1, Loss: 5.978082180023193\n",
      "Epoch 1, Loss: 5.864399433135986\n",
      "Epoch 1, Loss: 5.961459159851074\n",
      "Epoch 1, Loss: 5.872832775115967\n",
      "Epoch 1, Loss: 5.915089130401611\n",
      "Epoch 1, Loss: 5.929384708404541\n",
      "Epoch 1, Loss: 6.016558647155762\n",
      "Epoch 1, Loss: 5.92719841003418\n",
      "Epoch 1, Loss: 5.8791022300720215\n",
      "Epoch 1, Loss: 5.922243118286133\n",
      "Epoch 1, Loss: 5.906658172607422\n",
      "Epoch 1, Loss: 5.844058036804199\n",
      "Epoch 1, Loss: 6.020684242248535\n",
      "Epoch 1, Loss: 5.894041538238525\n",
      "Epoch 1, Loss: 5.932172775268555\n",
      "Epoch 1, Loss: 5.88017463684082\n",
      "Epoch 1, Loss: 5.848119735717773\n",
      "Epoch 1, Loss: 5.956300258636475\n",
      "Epoch 1, Loss: 5.853689670562744\n",
      "Epoch 1, Loss: 5.8223042488098145\n",
      "Epoch 1, Loss: 5.9145684242248535\n",
      "Epoch 1, Loss: 5.7697248458862305\n",
      "Epoch 1, Loss: 5.848238468170166\n",
      "Epoch 1, Loss: 5.9647626876831055\n",
      "Epoch 1, Loss: 5.929410457611084\n",
      "Epoch 1, Loss: 5.843573093414307\n",
      "Epoch 1, Loss: 5.908073902130127\n",
      "Epoch 1, Loss: 5.72039794921875\n",
      "Epoch 1, Loss: 5.836327075958252\n",
      "Epoch 1, Loss: 5.971875190734863\n",
      "Epoch 1, Loss: 5.812831401824951\n",
      "Epoch 1, Loss: 5.956267833709717\n",
      "Epoch 1, Loss: 5.924952983856201\n",
      "Epoch 1, Loss: 5.854373931884766\n",
      "Epoch 1, Loss: 5.908257961273193\n",
      "Epoch 1, Loss: 5.7996649742126465\n",
      "Epoch 1, Loss: 5.948521614074707\n",
      "Epoch 1, Loss: 6.058630466461182\n",
      "Epoch 1, Loss: 5.811865329742432\n",
      "Epoch 1, Loss: 5.800785541534424\n",
      "Epoch 1, Loss: 5.885004043579102\n",
      "Epoch 1, Loss: 5.949758529663086\n",
      "Epoch 1, Loss: 5.981083393096924\n",
      "Epoch 1, Loss: 5.8772382736206055\n",
      "Epoch 1, Loss: 5.84214973449707\n",
      "Epoch 1, Loss: 5.892937660217285\n",
      "Epoch 1, Loss: 5.82086181640625\n",
      "Epoch 1, Loss: 5.9182515144348145\n",
      "Epoch 1, Loss: 5.824606418609619\n",
      "Epoch 1, Loss: 5.937160015106201\n",
      "Epoch 1, Loss: 5.8744282722473145\n",
      "Epoch 1, Loss: 6.00003719329834\n",
      "Epoch 1, Loss: 5.948948383331299\n",
      "Epoch 1, Loss: 5.840795516967773\n",
      "Epoch 1, Loss: 5.845987319946289\n",
      "Epoch 1, Loss: 5.861380577087402\n",
      "Epoch 1, Loss: 5.850276947021484\n",
      "Epoch 1, Loss: 5.849738121032715\n",
      "Epoch 1, Loss: 5.869556903839111\n",
      "Epoch 1, Loss: 5.858651638031006\n",
      "Epoch 1, Loss: 5.8409037590026855\n",
      "Epoch 1, Loss: 5.955293655395508\n",
      "Epoch 1, Loss: 5.9221882820129395\n",
      "Epoch 1, Loss: 5.878772735595703\n",
      "Epoch 1, Loss: 5.944784641265869\n",
      "Epoch 1, Loss: 6.016684532165527\n",
      "Epoch 1, Loss: 5.9332051277160645\n",
      "Epoch 1, Loss: 5.894390106201172\n",
      "Epoch 1, Loss: 5.849519729614258\n",
      "Epoch 1, Loss: 5.809248447418213\n",
      "Epoch 1, Loss: 5.85520076751709\n",
      "Epoch 1, Loss: 5.9388427734375\n",
      "Epoch 1, Loss: 5.817507743835449\n",
      "Epoch 1, Loss: 5.905573844909668\n",
      "Epoch 1, Loss: 5.7896037101745605\n",
      "Epoch 1, Loss: 5.9819560050964355\n",
      "Epoch 1, Loss: 5.84907341003418\n",
      "Epoch 1, Loss: 5.971270561218262\n",
      "Epoch 1, Loss: 5.868889331817627\n",
      "Epoch 1, Loss: 5.831030368804932\n",
      "Epoch 1, Loss: 5.885577201843262\n",
      "Epoch 1, Loss: 5.922822952270508\n",
      "Epoch 1, Loss: 5.902397632598877\n",
      "Epoch 1, Loss: 5.833560943603516\n",
      "Epoch 1, Loss: 5.830448627471924\n",
      "Epoch 1, Loss: 5.783524036407471\n",
      "Epoch 1, Loss: 5.915069103240967\n",
      "Epoch 1, Loss: 5.766061305999756\n",
      "Epoch 1, Loss: 5.895500659942627\n",
      "Epoch 1, Loss: 5.760138988494873\n",
      "Epoch 1, Loss: 5.833932876586914\n",
      "Epoch 1, Loss: 5.726210117340088\n",
      "Epoch 1, Loss: 5.9504780769348145\n",
      "Epoch 1, Loss: 5.855987071990967\n",
      "Epoch 1, Loss: 5.875955104827881\n",
      "Epoch 1, Loss: 5.8374128341674805\n",
      "Epoch 1, Loss: 5.787196636199951\n",
      "Epoch 1, Loss: 5.862368106842041\n",
      "Epoch 1, Loss: 5.637284755706787\n"
     ]
    }
   ],
   "source": [
    "model_fixed_window = train_fixed_window(2)"
   ]
  },
  {
   "cell_type": "markdown",
   "metadata": {},
   "source": [
    "#### Performance goal\n",
    "\n",
    "**Your submitted notebook must contain output demonstrating a validation perplexity of at most 350.** If you do not reach this perplexity after the first epoch, try training for a second epoch.\n",
    "\n",
    "⚠️ Computing the validation perplexity in one go (for the full validation set) will probably exhaust your computer’s memory and/or take a lot of time. If you run into this problem, do the computation at the minibatch level and aggregate the results."
   ]
  },
  {
   "cell_type": "markdown",
   "metadata": {},
   "source": [
    "#### 🤞 Test your code\n",
    "\n",
    "To see whether your network is learning something, print or plot the loss and/or the perplexity on the training data. If the two values do not decrease during training, try to find the problem before wasting time (and electricity) on useless computation.\n",
    "\n",
    "Training and even evaluation will take some time – on a CPU, you should expect several minutes per epoch, depending on hardware. Our reference implementation uses a GPU and runs in less than 30 seconds per epoch on [Colab](http://colab.research.google.com)."
   ]
  },
  {
   "cell_type": "code",
   "execution_count": 21,
   "metadata": {},
   "outputs": [
    {
     "name": "stdout",
     "output_type": "stream",
     "text": [
      "278.3174133300781\n"
     ]
    }
   ],
   "source": [
    "def calc_perplexity(model, n, batch_size=3200):\n",
    "    model.eval()\n",
    "\n",
    "    total_prob, words = 0, 0\n",
    "\n",
    "    vectorizer = FixedWindowVectorizer(n)\n",
    "    n_grams_tensor, targets_tensor = vectorizer(wikitext.train)\n",
    "    \n",
    "    ds = TensorDataset(n_grams_tensor, targets_tensor)\n",
    "    dl = DataLoader(ds, batch_size=batch_size, shuffle=True)\n",
    "\n",
    "    with torch.no_grad():\n",
    "        for n_grams, targets in dl:\n",
    "            outputs = model(n_grams)\n",
    "            log_probs = nn.functional.log_softmax(outputs, dim=1)\n",
    "            for i, target in enumerate(targets):\n",
    "                w_log_prob = log_probs[i, target]\n",
    "                total_prob += w_log_prob.item()\n",
    "            words += targets.size(0)\n",
    "\n",
    "    average_prob = total_prob / words\n",
    "    average_prob_t = torch.tensor(average_prob)\n",
    "    perplexity = torch.exp(-average_prob_t)\n",
    "    return perplexity.item()\n",
    "\n",
    "perplexity = calc_perplexity(model_fixed_window, 2)\n",
    "print(perplexity)"
   ]
  },
  {
   "cell_type": "markdown",
   "metadata": {},
   "source": [
    "## Problem 2: Recurrent neural network model"
   ]
  },
  {
   "cell_type": "markdown",
   "metadata": {},
   "source": [
    "In this section, you will implement the recurrent neural network language model. Recall that an input to this model is a vector of word ids. Each integer is mapped to an embedding vector. The sequence of embedded vectors is then fed into an unrolled LSTM. At each position $i$ in the sequence, the hidden state of the LSTM at that position is sent through a linear transformation into a final softmax layer representing the probability distribution over the words at position $i+1$. In theory, the input vector could represent the complete training data; for practical reasons, however, we will truncate the input to some fixed value *bptt_len*. This length is called the **backpropagation-through-time horizon**."
   ]
  },
  {
   "cell_type": "markdown",
   "metadata": {},
   "source": [
    "### Problem 2.1: Vectorise the data (1&nbsp;point)"
   ]
  },
  {
   "cell_type": "markdown",
   "metadata": {},
   "source": [
    "As in the previous problem, your first task is to transform the data in the WikiText container into a vectorised form that can be fed to the model."
   ]
  },
  {
   "cell_type": "code",
   "execution_count": 22,
   "metadata": {},
   "outputs": [],
   "source": [
    "class RNNVectorizer(object):\n",
    "    def __init__(self, bptt_len):\n",
    "        self.bptt_len = bptt_len\n",
    "\n",
    "    def __call__(self, data):\n",
    "        x, y = [], []\n",
    "\n",
    "        n = len(data) - self.bptt_len\n",
    "\n",
    "        for i in range(0, n, self.bptt_len):\n",
    "            m = i + self.bptt_len\n",
    "            x.append(data[i:m])\n",
    "            y.append(data[i+1:m + 1])\n",
    "        \n",
    "        return torch.LongTensor(x).to(device), torch.LongTensor(y).to(device)"
   ]
  },
  {
   "cell_type": "markdown",
   "metadata": {},
   "source": [
    "Your vectoriser should meet the following specification:\n",
    "\n",
    "**__init__** (*self*, *bptt_len*)\n",
    "\n",
    "> Creates a new vectoriser. The parameter *bptt_len* specifies the backpropagation-through-time horizon.\n",
    "\n",
    "**__call__** (*self*, *data*)\n",
    "\n",
    "> Transforms a list of token indexes *data* into a pair of tensors $\\mathbf{X}$, $\\mathbf{Y}$ that can be used to train the recurrent neural language model. The rows of both tensors represent contiguous subsequences of token indexes of length *bptt_len*. Compared to the sequences in $\\mathbf{X}$, the corresponding sequences in $\\mathbf{Y}$ are shifted one position to the right. More precisely, if the $i$th row of $\\mathbf{X}$ is the sequence that starts at token position $j$, then the same row of $\\mathbf{Y}$ is the sequence that starts at position $j+1$."
   ]
  },
  {
   "cell_type": "markdown",
   "metadata": {},
   "source": [
    "#### 🤞 Test your code\n",
    "\n",
    "Test your implementation by running the following code:"
   ]
  },
  {
   "cell_type": "code",
   "execution_count": 23,
   "metadata": {},
   "outputs": [
    {
     "name": "stdout",
     "output_type": "stream",
     "text": [
      "torch.Size([6837, 32]) torch.Size([6837, 32])\n"
     ]
    }
   ],
   "source": [
    "valid_x, valid_y = RNNVectorizer(32)(wikitext.valid)\n",
    "\n",
    "print(valid_x.size(), valid_y.size())"
   ]
  },
  {
   "cell_type": "markdown",
   "metadata": {},
   "source": [
    "### Problem 2.2: Implement the model (2&nbsp;points)"
   ]
  },
  {
   "cell_type": "markdown",
   "metadata": {},
   "source": [
    "Your next task is to implement the recurrent neural network model based on the graphical specification."
   ]
  },
  {
   "cell_type": "code",
   "execution_count": 24,
   "metadata": {},
   "outputs": [],
   "source": [
    "import torch.nn as nn\n",
    "\n",
    "class RNNModel(nn.Module):\n",
    "    \n",
    "    def __init__(self, n_words, embedding_dim=50, hidden_dim=50):\n",
    "        super().__init__()\n",
    "        self.embedding = nn.Embedding(n_words, embedding_dim).to(device)\n",
    "        self.lstm = nn.LSTM(embedding_dim, hidden_dim).to(device)\n",
    "        self.lm = nn.Linear(hidden_dim, n_words).to(device)\n",
    "\n",
    "    def forward(self, x):\n",
    "        x = self.embedding(x).to(device)\n",
    "        x = self.lstm(x)[0].to(device)\n",
    "        return self.lm(x)"
   ]
  },
  {
   "cell_type": "markdown",
   "metadata": {},
   "source": [
    "Your implementation should follow this specification:\n",
    "\n",
    "**__init__** (*self*, *n_words*, *embedding_dim* = 50, *hidden_dim* = 50)\n",
    "\n",
    "> Creates a new recurrent neural network language model based on an LSTM. The argument *n_words* is the number of words in the vocabulary. The arguments *embedding_dim* and *hidden_dim* specify the dimensionalities of the embedding layer and the LSTM hidden layer, respectively; their default value is 50.\n",
    "\n",
    "**forward** (*self*, *x*)\n",
    "\n",
    "> Computes the network output on an input batch *x*. The shape of *x* is $(B, H)$, where $B$ is the batch size and $H$ is the length of each input sequence. The shape of the output tensor is $(B, H, V)$, where $V$ is the size of the vocabulary."
   ]
  },
  {
   "cell_type": "markdown",
   "metadata": {},
   "source": [
    "#### 🤞 Test your code\n",
    "\n",
    "Test your code by instantiating the model and feeding it a batch of examples from the training data."
   ]
  },
  {
   "cell_type": "code",
   "execution_count": 25,
   "metadata": {},
   "outputs": [
    {
     "name": "stdout",
     "output_type": "stream",
     "text": [
      "tensor([[-0.0120,  0.0716, -0.1547,  ..., -0.0097, -0.0588, -0.1180],\n",
      "        [-0.0119,  0.1260, -0.1112,  ...,  0.0556,  0.0170, -0.0228],\n",
      "        [-0.0641,  0.1058, -0.1053,  ..., -0.0948, -0.0213, -0.0624],\n",
      "        ...,\n",
      "        [ 0.0023, -0.1698, -0.3146,  ..., -0.0124,  0.0775,  0.1475],\n",
      "        [ 0.0180, -0.0797, -0.1701,  ..., -0.0473,  0.0239,  0.1444],\n",
      "        [-0.0682,  0.0483, -0.0970,  ..., -0.0734, -0.0177, -0.1285]],\n",
      "       grad_fn=<AddmmBackward0>)\n"
     ]
    }
   ],
   "source": [
    "V = len(wikitext.vocab)\n",
    "rnn_model = RNNModel(V)\n",
    "\n",
    "dl = DataLoader(wikitext.train, batch_size=32, shuffle=True)\n",
    "batch = next(iter(dl))\n",
    "\n",
    "print(rnn_model(batch))"
   ]
  },
  {
   "cell_type": "markdown",
   "metadata": {},
   "source": [
    "### Problem 2.3: Train the model (3&nbsp;points)"
   ]
  },
  {
   "cell_type": "markdown",
   "metadata": {},
   "source": [
    "The training loop for the recurrent neural network model is essentially identical to the loop that you wrote for the feed-forward model. The only thing to note is that the cross-entropy loss function expects its input to be a two-dimensional tensor; you will therefore have to re-shape the output tensor from the LSTM as well as the gold-standard output tensor in a suitable way. The most efficient way to do so is to use the [`view()`](https://pytorch.org/docs/stable/tensors.html#torch.Tensor.view) method."
   ]
  },
  {
   "cell_type": "code",
   "execution_count": 29,
   "metadata": {},
   "outputs": [],
   "source": [
    "import math\n",
    "\n",
    "def train_rnn(n_epochs=1, batch_size=1000, bptt_len=32, lr=1e-2):\n",
    "    dl = DataLoader(wikitext.train, batch_size=batch_size, collate_fn=RNNVectorizer(bptt_len))\n",
    "\n",
    "    loss_total = 0\n",
    "    batches = 0\n",
    "\n",
    "    rnn_model = RNNModel(len(wikitext.vocab)).to(device)\n",
    "    loss_function = nn.CrossEntropyLoss()\n",
    "    optimizer = optim.Adam(rnn_model.parameters(), lr=lr)\n",
    "    for epoch in range(n_epochs):\n",
    "        for batch, (input, target) in enumerate(dl):\n",
    "            optimizer.zero_grad()\n",
    "            output = rnn_model(input)\n",
    "\n",
    "            output_shaped = output.view(-1, len(wikitext.vocab))\n",
    "            target_shaped = target.view(-1)\n",
    "            loss = loss_function(output_shaped, target_shaped)\n",
    "            loss.backward()\n",
    "            optimizer.step()\n",
    "\n",
    "            loss_total += loss\n",
    "            batches += 1\n",
    "\n",
    "        print(f\"Perplexity: {torch.exp(loss_total/batches)}\")\n",
    "\n",
    "    return rnn_model"
   ]
  },
  {
   "cell_type": "markdown",
   "metadata": {},
   "source": [
    "Here is the specification of the training function:\n",
    "\n",
    "**train_rnn** (*n_epochs* = 1, *batch_size* = 1000, *bptt_len* = 32, *lr* = 0.01)\n",
    "\n",
    "> Trains a recurrent neural network language model on the WikiText data using minibatch gradient descent and returns it. The parameters *n_epochs* and *batch_size* specify the number of training epochs and the minibatch size, respectively. The parameter *bptt_len* specifies the length of the backpropagation-through-time horizon, that is, the length of the input and output sequences. Training uses the cross-entropy loss function and the [Adam optimizer](https://pytorch.org/docs/stable/optim.html#torch.optim.Adam) with learning rate *lr*. After each epoch, prints the perplexity of the model on the validation data."
   ]
  },
  {
   "cell_type": "markdown",
   "metadata": {},
   "source": [
    "Evaluate your model by running the following code cell:"
   ]
  },
  {
   "cell_type": "code",
   "execution_count": 30,
   "metadata": {},
   "outputs": [
    {
     "name": "stdout",
     "output_type": "stream",
     "text": [
      "Perplexity: 607.0833740234375\n",
      "Perplexity: 456.4004821777344\n"
     ]
    }
   ],
   "source": [
    "model_rnn = train_rnn(2, 1000, 32, 0.01)"
   ]
  },
  {
   "cell_type": "markdown",
   "metadata": {},
   "source": [
    "#### Performance goal\n",
    "\n",
    "**Your submitted notebook must contain output demonstrating a validation perplexity of at most 280.** If you do not reach this perplexity after the first epoch, try training for a second epoch."
   ]
  },
  {
   "cell_type": "code",
   "execution_count": 31,
   "metadata": {},
   "outputs": [
    {
     "name": "stdout",
     "output_type": "stream",
     "text": [
      "Final Perplexity: 269.3624572753906\n"
     ]
    },
    {
     "data": {
      "text/plain": [
       "RNNModel(\n",
       "  (embedding): Embedding(33279, 50)\n",
       "  (lstm): LSTM(50, 50)\n",
       "  (lm): Linear(in_features=50, out_features=33279, bias=True)\n",
       ")"
      ]
     },
     "execution_count": 31,
     "metadata": {},
     "output_type": "execute_result"
    }
   ],
   "source": [
    "def eval_model(rnn_model, batch_size=1000, bptt_len=32):\n",
    "    dl = DataLoader(wikitext.train, batch_size=batch_size, collate_fn=RNNVectorizer(bptt_len))\n",
    "    \n",
    "    loss_function = nn.CrossEntropyLoss()\n",
    "\n",
    "    loss_total = 0\n",
    "    num_samples = 0\n",
    "    with torch.no_grad():\n",
    "        for batch, (input, target) in enumerate(dl):\n",
    "            output = rnn_model(input)\n",
    "\n",
    "            output_shaped = output.view(-1, len(wikitext.vocab))\n",
    "            target_shaped = target.view(-1)\n",
    "\n",
    "            loss_total += loss_function(output_shaped, target_shaped) * batch\n",
    "            num_samples += batch\n",
    "\n",
    "    print(f\"Final Perplexity: {torch.exp(loss_total/num_samples)}\")\n",
    "\n",
    "    return rnn_model\n",
    "\n",
    "eval_model(model_rnn)"
   ]
  },
  {
   "cell_type": "markdown",
   "metadata": {},
   "source": [
    "## Problem 3: Parameter initialisation (3&nbsp;points)"
   ]
  },
  {
   "cell_type": "markdown",
   "metadata": {},
   "source": [
    "The error surfaces explored when training neural networks can be very complex. Because of this, it is important to choose “good” initial values for the parameters. In PyTorch, the weights of the embedding layer are initialised by sampling from the standard normal distribution $\\mathcal{N}(0, 1)$. Test how changing the initialisation affects the perplexity of your feed-forward language model. Find research articles that propose different initialisation strategies.\n",
    "\n",
    "Write a short (150&nbsp;words) report about your experiments and literature search. Use the following prompts:\n",
    "\n",
    "* What different initialisation did you try? What results did you get?\n",
    "\n",
    "* How do your results compare to what was suggested by the research articles?\n",
    "\n",
    "* What did you learn? How, exactly, did you learn it? Why does this learning matter?\n",
    "\n",
    "You are allowed to consult sources for this problem if you appropriately cite them. If in doubt, please read the [Academic Integrity Policy](https://www.ida.liu.se/~TDDE09/logistics/policies.html#academic-integrity-policy)."
   ]
  }
 ],
 "metadata": {
  "accelerator": "GPU",
  "colab": {
   "collapsed_sections": [],
   "name": "LM.ipynb",
   "provenance": [],
   "toc_visible": true
  },
  "kernelspec": {
   "display_name": "Python 3 (ipykernel)",
   "language": "python",
   "name": "python3"
  },
  "language_info": {
   "codemirror_mode": {
    "name": "ipython",
    "version": 3
   },
   "file_extension": ".py",
   "mimetype": "text/x-python",
   "name": "python",
   "nbconvert_exporter": "python",
   "pygments_lexer": "ipython3",
   "version": "3.10.12"
  }
 },
 "nbformat": 4,
 "nbformat_minor": 1
}
